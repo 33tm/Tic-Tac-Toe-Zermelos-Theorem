{
 "cells": [
  {
   "cell_type": "code",
   "execution_count": null,
   "metadata": {},
   "outputs": [
    {
     "name": "stdout",
     "output_type": "stream",
     "text": [
      "Requirement already satisfied: anytree in /Users/33tm/Developer/Tic-Tac-Toe-Zermelos-Theorem/.venv/lib/python3.13/site-packages (2.12.1)\n",
      "Requirement already satisfied: graphviz in /Users/33tm/Developer/Tic-Tac-Toe-Zermelos-Theorem/.venv/lib/python3.13/site-packages (0.20.3)\n",
      "Requirement already satisfied: six in /Users/33tm/Developer/Tic-Tac-Toe-Zermelos-Theorem/.venv/lib/python3.13/site-packages (from anytree) (1.17.0)\n",
      "Note: you may need to restart the kernel to use updated packages.\n"
     ]
    }
   ],
   "source": [
    "%pip install anytree"
   ]
  },
  {
   "cell_type": "code",
   "execution_count": null,
   "metadata": {},
   "outputs": [],
   "source": [
    "from json import load\n",
    "from anytree import Node\n",
    "from anytree.exporter import UniqueDotExporter\n",
    "\n",
    "with open(\"../data/boards.json\") as f:\n",
    "    boards = load(f)\n",
    "\n",
    "def build(data, parent=None, depth=0):\n",
    "    if depth > 1:\n",
    "        return\n",
    "    if isinstance(data, dict):\n",
    "        for key, value in data.items():\n",
    "            node = Node(key, parent=parent)\n",
    "            build(value, parent=node, depth=depth+1)\n",
    "    elif data == \"X\" or data == \"O\" or data is None:\n",
    "        Node(data, parent=parent)\n",
    "\n",
    "path = [0, 1, 33, 1057, 1185, 5281, 136353, 136357, 136869, 153253]\n",
    "\n",
    "for i, p in enumerate(path):\n",
    "    root = Node(\"root\")\n",
    "    target = boards\n",
    "    for j in range(i):\n",
    "        target = target[str(path[j])]\n",
    "    build(target, root)\n",
    "    UniqueDotExporter(root).to_picture(f\"boards_{i}.png\")"
   ]
  }
 ],
 "metadata": {
  "kernelspec": {
   "display_name": ".venv",
   "language": "python",
   "name": "python3"
  },
  "language_info": {
   "codemirror_mode": {
    "name": "ipython",
    "version": 3
   },
   "file_extension": ".py",
   "mimetype": "text/x-python",
   "name": "python",
   "nbconvert_exporter": "python",
   "pygments_lexer": "ipython3",
   "version": "3.13.1"
  }
 },
 "nbformat": 4,
 "nbformat_minor": 2
}
